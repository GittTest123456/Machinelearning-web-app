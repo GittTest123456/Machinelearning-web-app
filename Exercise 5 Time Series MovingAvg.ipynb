{
 "cells": [
  {
   "cell_type": "markdown",
   "metadata": {},
   "source": [
    "# Time Series - Moving Average Exercise 2"
   ]
  },
  {
   "cell_type": "raw",
   "metadata": {},
   "source": [
    "Load the stock price of AMZN from the file AMZN.csv.  You could also download the data from \n",
    "https://finance.yahoo.com/quote/AMZN/history?p=AMZN.  Perform the followings:\n",
    "1) What is the average stock price based on the past 200 days?\n",
    "2) Plot the graph of the historical stock price, 50 days moving average and 200 days moving average"
   ]
  },
  {
   "cell_type": "code",
   "execution_count": null,
   "metadata": {},
   "outputs": [],
   "source": [
    "import matplotlib.pyplot as plt\n",
    "import numpy as np\n",
    "import pandas as pd\n",
    "import pandas_datareader as pdr\n",
    "import sklearn\n",
    "\n",
    "#df = pd.read_csv('AMZN.csv', index_col= 'Date', parse_dates=True, infer_datetime_format=True)\n",
    "df = pdr.DataReader('AMZN', data_source='yahoo', start='2018-11-12', end='2022-11-11')"
   ]
  },
  {
   "cell_type": "code",
   "execution_count": null,
   "metadata": {},
   "outputs": [],
   "source": [
    "df.head()"
   ]
  },
  {
   "cell_type": "code",
   "execution_count": null,
   "metadata": {},
   "outputs": [],
   "source": [
    "#see graph \n",
    "plt.figure(figsize=(18,12))\n",
    "plt.plot(df.iloc[:,0:4])\n",
    "# df.iloc[:,0:4].plot()"
   ]
  },
  {
   "cell_type": "code",
   "execution_count": null,
   "metadata": {},
   "outputs": [],
   "source": [
    "df.iloc[:,-1].plot(ylabel='Volume')\n"
   ]
  },
  {
   "cell_type": "code",
   "execution_count": null,
   "metadata": {},
   "outputs": [],
   "source": [
    "RECENT_PERIOD = 200\n",
    "df.Close[-RECENT_PERIOD:]\n"
   ]
  },
  {
   "cell_type": "code",
   "execution_count": null,
   "metadata": {},
   "outputs": [],
   "source": [
    "df.Close[-RECENT_PERIOD:].mean()  \n"
   ]
  },
  {
   "cell_type": "code",
   "execution_count": null,
   "metadata": {},
   "outputs": [],
   "source": [
    "df.Close[-RECENT_PERIOD:].sum()  \n"
   ]
  },
  {
   "cell_type": "code",
   "execution_count": null,
   "metadata": {},
   "outputs": [],
   "source": [
    "moving_avg_200 = df.Close.rolling(window=200).mean().shift(1)\n",
    "moving_avg_50 = df.Close.rolling(window=50).mean().shift(1)\n",
    "\n",
    "print ('moving average 200:\\n',moving_avg_200.head())\n",
    "print ('moving AVG 50:\\n', moving_avg_50.head())"
   ]
  },
  {
   "cell_type": "code",
   "execution_count": null,
   "metadata": {},
   "outputs": [],
   "source": [
    "# plot the graphs with different moving average\n",
    "plt.figure(figsize=(16,10))\n",
    "plt.plot(df.index, df.Close, label='Closing Price')\n",
    "plt.plot(df.index, moving_avg_200, label='200 MA', color='orange')\n",
    "plt.plot(df.index, moving_avg_50, label='50 MA', color='magenta')\n",
    "plt.legend(loc='upper left')\n",
    "plt.show()"
   ]
  }
 ],
 "metadata": {
  "kernelspec": {
   "display_name": "Python 3.10.6 ('base')",
   "language": "python",
   "name": "python3"
  },
  "language_info": {
   "codemirror_mode": {
    "name": "ipython",
    "version": 3
   },
   "file_extension": ".py",
   "mimetype": "text/x-python",
   "name": "python",
   "nbconvert_exporter": "python",
   "pygments_lexer": "ipython3",
   "version": "3.10.6"
  },
  "vscode": {
   "interpreter": {
    "hash": "b659fdc12d29873aab9167b87d5808f973a5d01479e4dce521ca61f9785d761a"
   }
  }
 },
 "nbformat": 4,
 "nbformat_minor": 2
}
